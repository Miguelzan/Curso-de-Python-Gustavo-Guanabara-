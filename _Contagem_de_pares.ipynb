{
  "nbformat": 4,
  "nbformat_minor": 0,
  "metadata": {
    "colab": {
      "name": "#Contagem de pares.ipynb",
      "provenance": [],
      "authorship_tag": "ABX9TyNs3AegC+0SyfXtg/vS6hGZ",
      "include_colab_link": true
    },
    "kernelspec": {
      "name": "python3",
      "display_name": "Python 3"
    },
    "language_info": {
      "name": "python"
    }
  },
  "cells": [
    {
      "cell_type": "markdown",
      "metadata": {
        "id": "view-in-github",
        "colab_type": "text"
      },
      "source": [
        "<a href=\"https://colab.research.google.com/github/Miguelzan/Curso-de-Python-Gustavo-Guanabara-/blob/master/_Contagem_de_pares.ipynb\" target=\"_parent\"><img src=\"https://colab.research.google.com/assets/colab-badge.svg\" alt=\"Open In Colab\"/></a>"
      ]
    },
    {
      "cell_type": "code",
      "execution_count": null,
      "metadata": {
        "id": "CLbvfkmpAMaQ"
      },
      "outputs": [],
      "source": [
        "# Contagem de pares\n",
        "\n",
        "# >> Crie um programa que mostre na tela todos os números pares que estão no intervalo entre 1 e 50.\n",
        "\n",
        "for n in range(2, 51, 2):\n",
        " print(n, end=' ')\n"
      ]
    }
  ]
}